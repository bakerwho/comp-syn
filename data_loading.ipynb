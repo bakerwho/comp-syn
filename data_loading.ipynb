{
 "cells": [
  {
   "cell_type": "markdown",
   "metadata": {},
   "source": [
    "## Finding Images and using WordNet\n",
    "\n",
    "This notebook will demonstrate loading images from google image search and using WordNet to find similar words."
   ]
  },
  {
   "cell_type": "code",
   "execution_count": 1,
   "metadata": {},
   "outputs": [],
   "source": [
    "import compsyn\n",
    "import os"
   ]
  },
  {
   "cell_type": "markdown",
   "metadata": {},
   "source": [
    "The ```compsyn.helperfunctions``` file contains helper functions to download files and to use NLTKs wordnet to find extra search terms."
   ]
  },
  {
   "cell_type": "code",
   "execution_count": 2,
   "metadata": {},
   "outputs": [],
   "source": [
    "from compsyn.helperfunctions import get_wordnet_tree_data, search_and_download, run_google_vision, write_img_classifications_to_file"
   ]
  },
  {
   "cell_type": "markdown",
   "metadata": {},
   "source": [
    "### Settings"
   ]
  },
  {
   "cell_type": "code",
   "execution_count": 3,
   "metadata": {},
   "outputs": [],
   "source": [
    "number_images = 100 \n",
    "search_terms = ['emotion']\n",
    "filter_data = True\n",
    "get_tree_data = True"
   ]
  },
  {
   "cell_type": "markdown",
   "metadata": {},
   "source": [
    "### Get WordNet data"
   ]
  },
  {
   "cell_type": "code",
   "execution_count": 4,
   "metadata": {},
   "outputs": [],
   "source": [
    "home = os.getcwd()"
   ]
  },
  {
   "cell_type": "code",
   "execution_count": 5,
   "metadata": {},
   "outputs": [],
   "source": [
    "n_categories = 10"
   ]
  },
  {
   "cell_type": "code",
   "execution_count": 6,
   "metadata": {},
   "outputs": [
    {
     "name": "stdout",
     "output_type": "stream",
     "text": [
      "Adding Search Terms from Tree\n",
      "  ref_term                        new_term     role  \\\n",
      "0  emotion                           anger  hyponym   \n",
      "1  emotion                         anxiety  hyponym   \n",
      "2  emotion  conditioned_emotional_response  hyponym   \n",
      "3  emotion                 emotional_state  hyponym   \n",
      "4  emotion                            fear  hyponym   \n",
      "\n",
      "                                          synset Branch_fact Num_senses  \n",
      "0                           Synset('anger.n.01')          19          5  \n",
      "1                         Synset('anxiety.n.02')           6          2  \n",
      "2  Synset('conditioned_emotional_response.n.01')           1          1  \n",
      "3                 Synset('emotional_state.n.01')          16          1  \n",
      "4                            Synset('fear.n.01')          25          8  \n"
     ]
    }
   ],
   "source": [
    "if get_tree_data: \n",
    "    print(\"Adding Search Terms from Tree\")\n",
    "    tree_search_terms, raw_tree, all_tree_data = get_wordnet_tree_data(search_terms, home)\n",
    "    search_terms = tree_search_terms[:n_categories]\n",
    "    print(all_tree_data.head())"
   ]
  },
  {
   "cell_type": "code",
   "execution_count": 7,
   "metadata": {},
   "outputs": [
    {
     "data": {
      "text/plain": [
       "['emotion',\n",
       " 'conditioned emotional response',\n",
       " 'joy',\n",
       " 'love',\n",
       " 'hate',\n",
       " 'emotional state',\n",
       " 'feeling',\n",
       " 'anxiety',\n",
       " 'anger',\n",
       " 'fear']"
      ]
     },
     "execution_count": 7,
     "metadata": {},
     "output_type": "execute_result"
    }
   ],
   "source": [
    "tree_search_terms"
   ]
  },
  {
   "cell_type": "code",
   "execution_count": 8,
   "metadata": {},
   "outputs": [
    {
     "data": {
      "text/plain": [
       "['emotion',\n",
       " 'conditioned emotional response',\n",
       " 'joy',\n",
       " 'love',\n",
       " 'hate',\n",
       " 'emotional state',\n",
       " 'feeling',\n",
       " 'anxiety',\n",
       " 'anger',\n",
       " 'fear']"
      ]
     },
     "execution_count": 8,
     "metadata": {},
     "output_type": "execute_result"
    }
   ],
   "source": [
    "search_terms"
   ]
  },
  {
   "cell_type": "markdown",
   "metadata": {},
   "source": [
    "We might want to remove the elements from the list which won't have clear images."
   ]
  },
  {
   "cell_type": "code",
   "execution_count": 9,
   "metadata": {},
   "outputs": [
    {
     "data": {
      "text/plain": [
       "'conditioned emotional response'"
      ]
     },
     "execution_count": 9,
     "metadata": {},
     "output_type": "execute_result"
    }
   ],
   "source": [
    "search_terms.pop(1)"
   ]
  },
  {
   "cell_type": "code",
   "execution_count": 10,
   "metadata": {},
   "outputs": [
    {
     "data": {
      "text/plain": [
       "'love'"
      ]
     },
     "execution_count": 10,
     "metadata": {},
     "output_type": "execute_result"
    }
   ],
   "source": [
    "search_terms.pop(2)"
   ]
  },
  {
   "cell_type": "markdown",
   "metadata": {},
   "source": [
    "### Download Images"
   ]
  },
  {
   "cell_type": "code",
   "execution_count": 11,
   "metadata": {},
   "outputs": [],
   "source": [
    "DRIVER_PATH = \"/Users/bhargavvader/open_source/comp-syn/chromedriver\""
   ]
  },
  {
   "cell_type": "code",
   "execution_count": 12,
   "metadata": {},
   "outputs": [
    {
     "name": "stdout",
     "output_type": "stream",
     "text": [
      "emotion\n",
      "Found: 100 search results. Extracting links from 0:100\n",
      "Found: 101 image links, done!\n",
      "SUCCESS - saved https://encrypted-tbn0.gstatic.com/images?q=tbn%3AANd9GcQ2FqCXoQqCqQ82R1YC-0uhSTcDgSn3fZ-f09MbzRTnM4QRYWDX&usqp=CAU - as ./downloads/emotion/455661512c.jpg\n",
      "SUCCESS - saved https://thumbs.dreamstime.com/z/emotion-scale-speedometer-emotions-portraits-infographic-control-element-customer-satisfaction-quality-score-rating-faces-154466813.jpg - as ./downloads/emotion/2a4e8f3e20.jpg\n",
      "SUCCESS - saved https://encrypted-tbn0.gstatic.com/images?q=tbn%3AANd9GcQ5OVcMm3akqXyp-mdOYh7r2Fe-JmZiiOaDnMxX3F-zXaMnub1V&usqp=CAU - as ./downloads/emotion/6ca9217c77.jpg\n",
      "SUCCESS - saved https://www.researchgate.net/profile/Radoslaw_Nielek/publication/319045412/figure/fig1/AS:541648786554880@1506150542812/Plutchik-wheel-of-emotion.png - as ./downloads/emotion/b0bdbcd0f3.jpg\n",
      "SUCCESS - saved https://encrypted-tbn0.gstatic.com/images?q=tbn%3AANd9GcQ2rPnX3HyrnMZ56VYd-e7ket1y9P-3M3hZTAsFupbMKXumaYEM&usqp=CAU - as ./downloads/emotion/4c8e23b4a8.jpg\n",
      "SUCCESS - saved https://encrypted-tbn0.gstatic.com/images?q=tbn%3AANd9GcQv5QRpWX5KyQTmaryP9gBCx-6SWRqu2faUQ4eluelv37oBEHBG&usqp=CAU - as ./downloads/emotion/eb82db1981.jpg\n",
      "SUCCESS - saved https://encrypted-tbn0.gstatic.com/images?q=tbn%3AANd9GcQxpylbEXoGw2IO_jcjTLnikZ6TjJqe7ZC_O78GQndExHU-XOzT&usqp=CAU - as ./downloads/emotion/3a7c9620e5.jpg\n",
      "SUCCESS - saved https://encrypted-tbn0.gstatic.com/images?q=tbn%3AANd9GcSJOrHtrWlmZvzgAuV1e_uZDa1IjGedgrxRdHLAnZ-eT10kvwRM&usqp=CAU - as ./downloads/emotion/3d4c41d1a1.jpg\n",
      "SUCCESS - saved https://image.shutterstock.com/image-vector/feedback-emotion-scale-customers-vector-260nw-1590855019.jpg - as ./downloads/emotion/ce6625f6a2.jpg\n",
      "SUCCESS - saved https://lh3.googleusercontent.com/proxy/nuigd2UY-j8CioJCm8nua2M2OyzcWaXJvshVQPA9Mfx2sDVSUG8mJKdRxqEpqMLm7h2LenPvS9LkC7kUKenHIEuQ - as ./downloads/emotion/7e7005a774.jpg\n",
      "SUCCESS - saved https://miro.medium.com/max/3300/1*eFW-uLm1TRmytl3AH9nSRw.png - as ./downloads/emotion/ee7e66831e.jpg\n",
      "SUCCESS - saved https://encrypted-tbn0.gstatic.com/images?q=tbn%3AANd9GcT_5A4dblT5FYnjDBdJXCRAaJBbFro9ZgAFkCK9nmAvauauuH9p&usqp=CAU - as ./downloads/emotion/4f4f37326a.jpg\n",
      "SUCCESS - saved https://www.vision.org/sites/default/files/img/2013summer_more-than-a-feeling_1920x1080.jpg - as ./downloads/emotion/a792c17f67.jpg\n",
      "SUCCESS - saved https://www.quickanddirtytips.com/sites/default/files/styles/article_main_image/public/images/14086/persuade-with-emotion-compressor.png?itok=l_a56pad - as ./downloads/emotion/2c8798c652.jpg\n",
      "SUCCESS - saved https://encrypted-tbn0.gstatic.com/images?q=tbn%3AANd9GcQPzM3qxpOQDEZVo_f-DwXleuYTAQToEExHKYgQBYajkGmZDzzA&usqp=CAU - as ./downloads/emotion/8d016e8783.jpg\n",
      "SUCCESS - saved https://lh3.googleusercontent.com/proxy/2j44ac1RJog_LbcWO9dwVwb1yIxoSxqiGZKiLm0oxhxaUwGIW7EKRyExU1l9mmiQ-ZdNBkEU5_gSV1T60OMVid9HezXtq8VRkcE - as ./downloads/emotion/6f308bc1bf.jpg\n",
      "SUCCESS - saved https://encrypted-tbn0.gstatic.com/images?q=tbn%3AANd9GcTq8g6Kx2sEdLieviHqsFHRKKQHygAQgGLt6T_I3fbs0GCjqzue&usqp=CAU - as ./downloads/emotion/6d9bae0926.jpg\n",
      "SUCCESS - saved https://images.kaplanco.com/catalog/largepopup/62999main-rev2016.jpg - as ./downloads/emotion/ddb4eea756.jpg\n",
      "SUCCESS - saved https://venturebeat.com/wp-content/uploads/2019/09/ogp-image.png?w=1200&strip=all - as ./downloads/emotion/4d8f03e502.jpg\n",
      "SUCCESS - saved https://www.elitecme.com/wp-content/uploads/2019/05/emotion900x500.jpg - as ./downloads/emotion/378f143303.jpg\n",
      "SUCCESS - saved https://miro.medium.com/max/5120/1*7TGnppOQv4g8tuJ2kk1XNg.jpeg - as ./downloads/emotion/37904548b3.jpg\n",
      "SUCCESS - saved https://encrypted-tbn0.gstatic.com/images?q=tbn%3AANd9GcQX5tVg4A5-xyGB-TrrjMPM_iNOtLYO2l-UswmK1lzLUOlGG_XI&usqp=CAU - as ./downloads/emotion/80f477e622.jpg\n",
      "SUCCESS - saved https://www.beyondphilosophy.com/wp-content/uploads/2012/11/Emolarge1.jpg - as ./downloads/emotion/a4f1149694.jpg\n",
      "SUCCESS - saved https://cdn.mindful.org/AdobeStock_193908646.jpeg?q=80&fm=jpg&fit=crop&w=1400&h=875 - as ./downloads/emotion/a362178b49.jpg\n",
      "SUCCESS - saved https://encrypted-tbn0.gstatic.com/images?q=tbn%3AANd9GcT8ERBNKNcdjb9WnMxFxXop5jAnO3IWYU5XCBMZFa9GIBn8TfBp&usqp=CAU - as ./downloads/emotion/dba598295f.jpg\n",
      "SUCCESS - saved https://www.cambridgeblog.org/wp-content/uploads/2019/01/shutterstock_1050514703-615x290.jpg - as ./downloads/emotion/cf47c1d98c.jpg\n",
      "SUCCESS - saved https://www.mycustomer.com/sites/default/files/istock_bortonia_emotionfaces.jpg - as ./downloads/emotion/cc9b1d7f2c.jpg\n",
      "ERROR - Could not save https://www.prekinders.com/wp-content/uploads/2013/08/emotion2-word-cards.png - cannot identify image file <_io.BytesIO object at 0x13c0261d0>\n",
      "SUCCESS - saved https://encrypted-tbn0.gstatic.com/images?q=tbn%3AANd9GcQE0j-sNopu6khqGPVxXLz4rDi3AO06nHr-P0OPglMVPZgoeFQg&usqp=CAU - as ./downloads/emotion/fee8fb443a.jpg\n",
      "SUCCESS - saved https://encrypted-tbn0.gstatic.com/images?q=tbn%3AANd9GcSZseQbjtCuth-fgDzoVqEyJpC2z6CtT98Z7J0WY--nb37X10KD&usqp=CAU - as ./downloads/emotion/5a2bdb4082.jpg\n",
      "SUCCESS - saved https://encrypted-tbn0.gstatic.com/images?q=tbn%3AANd9GcQ58UTaz3u58nl8-7l22HNVX0CmOB-ViapwSOfwvZNQuQtbE-nB&usqp=CAU - as ./downloads/emotion/9af0e824dc.jpg\n",
      "SUCCESS - saved https://d13wriz42ny3t5.cloudfront.net/production/2018/10/02110613/plan-toys-my-mood-memo-kids-emotion-wheel.jpg - as ./downloads/emotion/2c29a0fbcc.jpg\n",
      "SUCCESS - saved https://encrypted-tbn0.gstatic.com/images?q=tbn%3AANd9GcS19YVp63HyMY99XwOeEfFKoqs8yHHQKqyF2DuINCheXu6X7mCK&usqp=CAU - as ./downloads/emotion/9f4b82c3c3.jpg\n",
      "SUCCESS - saved https://miro.medium.com/max/4408/1*Dahjzk4_GsaFH-kRXHfaiw.png - as ./downloads/emotion/c74e10c421.jpg\n",
      "SUCCESS - saved https://www.elegantthemes.com/blog/wp-content/uploads/2019/04/color-emotion.png - as ./downloads/emotion/bd8e962be7.jpg\n",
      "SUCCESS - saved https://www.dana.org/wp-content/uploads/2017/07/H-July-Emotion_WP.jpg - as ./downloads/emotion/88e43b60b0.jpg\n",
      "SUCCESS - saved https://encrypted-tbn0.gstatic.com/images?q=tbn%3AANd9GcTiT9F5vv8jhjS2zobsNQduIKoEl9tw6FlErAq6XTVJ2zwpGuAm&usqp=CAU - as ./downloads/emotion/f68426438d.jpg\n",
      "SUCCESS - saved https://pbs.twimg.com/profile_images/1197886367449124864/Xv1VO2KX_400x400.jpg - as ./downloads/emotion/07a6df58ec.jpg\n",
      "SUCCESS - saved https://upload.wikimedia.org/wikipedia/commons/thumb/c/c4/Geneva_Emotion_Wheel_-_English.png/220px-Geneva_Emotion_Wheel_-_English.png - as ./downloads/emotion/b1f6de8e08.jpg\n",
      "SUCCESS - saved https://media.kairos.com/blog-images/Universal_emotions.jpg - as ./downloads/emotion/c5d5fe2ff1.jpg\n",
      "SUCCESS - saved https://encrypted-tbn0.gstatic.com/images?q=tbn%3AANd9GcR2GOzUjS-xaMUWy5gxsooajzmnmn_zKz6KpQdByNeFrX1leSmR&usqp=CAU - as ./downloads/emotion/ca4895467e.jpg\n",
      "SUCCESS - saved https://encrypted-tbn0.gstatic.com/images?q=tbn%3AANd9GcTp8KaflBt_LPGmKgq1PLw_SsYiITpYN1IAuoeZJ9-dEBu_ci-p&usqp=CAU - as ./downloads/emotion/6ade0fa58c.jpg\n",
      "SUCCESS - saved https://encrypted-tbn0.gstatic.com/images?q=tbn%3AANd9GcRQRReu9SpSExMTe0RsV0hujTjeVpAEJHYpau0v9hdXwwemSQ2-&usqp=CAU - as ./downloads/emotion/2dc215db62.jpg\n",
      "SUCCESS - saved https://i.redd.it/0le5a3tevys21.png - as ./downloads/emotion/3c836b3647.jpg\n",
      "SUCCESS - saved https://encrypted-tbn0.gstatic.com/images?q=tbn%3AANd9GcTXwz6W5kUSVQeBDzhexxADX2kNqcN4vpkNlIQfoBdYZ7p8BJ3C&usqp=CAU - as ./downloads/emotion/3e021df420.jpg\n",
      "SUCCESS - saved https://encrypted-tbn0.gstatic.com/images?q=tbn%3AANd9GcQ_yTznjNe3dxskjJudw_lBDSNSAIu3hFqHLuSCW2kFh6XrXthW&usqp=CAU - as ./downloads/emotion/d2ea46c707.jpg\n",
      "SUCCESS - saved https://www.pbs.org/wgbh/nova/media/images/affective-computing.width-800.jpg - as ./downloads/emotion/fc25a24ca5.jpg\n",
      "SUCCESS - saved https://i.pinimg.com/originals/2f/7a/93/2f7a930235d432e0c435f564956ebc47.jpg - as ./downloads/emotion/d8c037fc7e.jpg\n",
      "SUCCESS - saved https://encrypted-tbn0.gstatic.com/images?q=tbn%3AANd9GcQCC4RL_3BmToTM_1Kj7y61qGfwRsSbrJVl2C9XX0Xq6BSa2CHk&usqp=CAU - as ./downloads/emotion/af4d54d898.jpg\n",
      "SUCCESS - saved https://i.dailymail.co.uk/1s/2020/04/06/08/26855090-8190399-Disbelief_anger_sadness_acceptance_and_hope_are_the_five_waves_o-m-16_1586157103659.jpg - as ./downloads/emotion/75e49e5755.jpg\n",
      "SUCCESS - saved https://i2.wp.com/hope4hurtingkids.com/wp-content/uploads/2018/06/Emotion-Charts-Page-1.jpg?resize=422%2C650&ssl=1 - as ./downloads/emotion/9c51a8d385.jpg\n"
     ]
    },
    {
     "name": "stdout",
     "output_type": "stream",
     "text": [
      "SUCCESS - saved https://barrel.blog/wp-content/uploads/2018/08/emotionindex-1200x628.jpg - as ./downloads/emotion/122440db0a.jpg\n",
      "SUCCESS - saved https://upload.wikimedia.org/wikipedia/commons/thumb/c/ce/Plutchik-wheel.svg/220px-Plutchik-wheel.svg.png - as ./downloads/emotion/380a0da359.jpg\n"
     ]
    },
    {
     "name": "stderr",
     "output_type": "stream",
     "text": [
      "/Users/bhargavvader/open_source/comp-syn/venv/lib/python3.7/site-packages/PIL/Image.py:960: UserWarning: Palette images with Transparency expressed in bytes should be converted to RGBA images\n",
      "  \"Palette images with Transparency expressed in bytes should be \"\n"
     ]
    },
    {
     "name": "stdout",
     "output_type": "stream",
     "text": [
      "SUCCESS - saved https://i0.wp.com/flowingdata.com/wp-content/uploads/2015/06/Inside-Out-Emotion-Combos.png?fit=620%2C577&ssl=1 - as ./downloads/emotion/9b7a1a9fd0.jpg\n",
      "SUCCESS - saved https://ww2.kqed.org/app/uploads/sites/23/2019/11/emotion-scientists.jpg - as ./downloads/emotion/8db69e8eaa.jpg\n",
      "SUCCESS - saved https://encrypted-tbn0.gstatic.com/images?q=tbn%3AANd9GcTh3ZGPiA4vVs1Q4_d73xgJ4WPT880qgE4Can6wR_scEzIuRyD6&usqp=CAU - as ./downloads/emotion/1fadc0ab5c.jpg\n",
      "SUCCESS - saved https://encrypted-tbn0.gstatic.com/images?q=tbn%3AANd9GcTphvvWBzUAOp9J7kQtEjv3e29_Df-kcg82tvpy22RpohXdD192&usqp=CAU - as ./downloads/emotion/8269989413.jpg\n",
      "SUCCESS - saved https://i.ytimg.com/vi/3zPJMU3PxuY/maxresdefault.jpg - as ./downloads/emotion/80ad0b065a.jpg\n",
      "SUCCESS - saved https://i.pinimg.com/originals/dc/7d/18/dc7d186ac389a22090de717f2302bd79.png - as ./downloads/emotion/5b601924cb.jpg\n",
      "ERROR - Could not save https://martechtoday.com/wp-content/uploads/2020/03/emotion-buttons-stock-1920.jpg - cannot identify image file <_io.BytesIO object at 0x105412c50>\n",
      "SUCCESS - saved https://encrypted-tbn0.gstatic.com/images?q=tbn%3AANd9GcTLATVAdPA3tmFDZTprQRRk3u4S4Nyf7GZaSpsKOoXdTZFWjvCg&usqp=CAU - as ./downloads/emotion/2cc2d52a20.jpg\n",
      "SUCCESS - saved https://encrypted-tbn0.gstatic.com/images?q=tbn%3AANd9GcRg-7p2crEJL3I_i5mZhnEO4HjuHEhl_AjZb5rlGo00wTI8-9wb&usqp=CAU - as ./downloads/emotion/abfb3ebdd3.jpg\n",
      "SUCCESS - saved https://encrypted-tbn0.gstatic.com/images?q=tbn%3AANd9GcQ1wSa01Ji4aQOmY547mw7OtBtzF_Ha-lyG_cSG1oKgQaDdak0Z&usqp=CAU - as ./downloads/emotion/aa73547de8.jpg\n",
      "SUCCESS - saved https://www.verywellmind.com/thmb/Fhma-rVDw47EQ9tj7F0VoEVKo7Y=/3000x2000/filters:no_upscale():max_bytes(150000):strip_icc()/theories-of-emotion-2795717-FINAL-e8b36722ff2648e18f5383f20460da1d.png - as ./downloads/emotion/db7030bbd4.jpg\n",
      "SUCCESS - saved https://www.verywellmind.com/thmb/YwJYR3y0yhvZjAeHyPZXPVX6V1E=/1500x1000/filters:no_upscale():max_bytes(150000):strip_icc()/an-overview-of-the-types-of-emotions-4163976-01-474bb455cfe74c3cb98ea46113e3108b.png - as ./downloads/emotion/475be9b30a.jpg\n",
      "SUCCESS - saved https://sites.tufts.edu/emotionandmemoryblog/files/2018/10/cropped-emoticonsbanneredit.jpg - as ./downloads/emotion/11755172c6.jpg\n",
      "SUCCESS - saved https://encrypted-tbn0.gstatic.com/images?q=tbn%3AANd9GcRafCv6kwvHxbz3HjnL7mAOqFM3fnLx-Q65ttafI2JhNitfql5f&usqp=CAU - as ./downloads/emotion/1b244eff20.jpg\n",
      "SUCCESS - saved https://encrypted-tbn0.gstatic.com/images?q=tbn%3AANd9GcQ9jkR0MxGV8TDRXByWhlLpn7QVjTK3I9DW43hGgmBC_4h77FXr&usqp=CAU - as ./downloads/emotion/2cf166dcf2.jpg\n",
      "SUCCESS - saved https://cdn.education.com/files/static/lesson-plan-page/thumbnails/el-support-lesson-emotion-charades_557x731.png - as ./downloads/emotion/16fd07cada.jpg\n",
      "SUCCESS - saved https://encrypted-tbn0.gstatic.com/images?q=tbn%3AANd9GcTpZMTOwV6fBt-8dlPmuVhsWTtcAas7Q-QPn-2HuU6PJ7e5fBVb&usqp=CAU - as ./downloads/emotion/e092374358.jpg\n",
      "SUCCESS - saved https://encrypted-tbn0.gstatic.com/images?q=tbn%3AANd9GcRv5eMAjgWq24acq1-W3uTlknmS7vM6RchEehLvuMuTbR2HZbY_&usqp=CAU - as ./downloads/emotion/a3e824c849.jpg\n",
      "SUCCESS - saved https://img.freepik.com/free-vector/mixed-emoji-set_53876-89770.jpg?size=626&ext=jpg - as ./downloads/emotion/3f2f02437f.jpg\n",
      "SUCCESS - saved https://cdn.tinybuddha.com/wp-content/uploads/2015/06/Emotions.png - as ./downloads/emotion/8e3b856a69.jpg\n",
      "SUCCESS - saved https://cdn4.vectorstock.com/i/1000x1000/56/98/emotion-kids-vector-9625698.jpg - as ./downloads/emotion/50cfabf161.jpg\n",
      "SUCCESS - saved https://www.perkinselearning.org/sites/elearning.perkinsdev1.org/files/styles/interior_page_image__519x374_/public/Emoji.jpg?itok=-16w8Wmc - as ./downloads/emotion/74ceaddc0c.jpg\n",
      "SUCCESS - saved https://hbr.org/resources/images/article_assets/2016/11/nov16-10-hbr-marion-barraud-emotional-intel.jpg - as ./downloads/emotion/c598fd3f87.jpg\n",
      "SUCCESS - saved https://encrypted-tbn0.gstatic.com/images?q=tbn%3AANd9GcQMitlwSjbDJsAVGFqn1WAP-DgQwDGHNp3cKKtogDc4VblwR9q-&usqp=CAU - as ./downloads/emotion/9b0e428475.jpg\n",
      "SUCCESS - saved https://encrypted-tbn0.gstatic.com/images?q=tbn%3AANd9GcT8xhk9NFNBeM_Dm76Ve5D0rKr8ZvPhO4W2os9guDBOSJKlPuRM&usqp=CAU - as ./downloads/emotion/93ef0f1fda.jpg\n",
      "SUCCESS - saved https://encrypted-tbn0.gstatic.com/images?q=tbn%3AANd9GcQj638OeQGNmCRABQtgJeAnGCbz22NyC5penFLQRfhbAXoN6tYg&usqp=CAU - as ./downloads/emotion/35ed7686cf.jpg\n",
      "SUCCESS - saved https://images.squarespace-cdn.com/content/v1/50994637e4b0c4855be1d4b1/1578743356879-34QY4ZOU14HSR3D019EA/ke17ZwdGBToddI8pDm48kNiEM88mrzHRsd1mQ3bxVct7gQa3H78H3Y0txjaiv_0fDoOvxcdMmMKkDsyUqMSsMWxHk725yiiHCCLfrh8O1z4YTzHvnKhyp6Da-NYroOW3ZGjoBKy3azqku80C789l0s0XaMNjCqAzRibjnE_wBlkZ2axuMlPfqFLWy-3Tjp4nKScCHg1XF4aLsQJlo6oYbA/Junto+Institute+Emotion+Wheel.jpg - as ./downloads/emotion/cd1c303577.jpg\n",
      "SUCCESS - saved https://www.telegraph.co.uk/content/dam/technology/2019/05/30/SM_2905_DIGI_SCREEN_EMOTION-xlarge_trans_NvBQzQNjv4BqqVzuuqpFlyLIwiB6NTmJwfSVWeZ_vEN7c6bHu2jJnT8.jpg?imwidth=1200 - as ./downloads/emotion/20083f440d.jpg\n",
      "SUCCESS - saved https://encrypted-tbn0.gstatic.com/images?q=tbn%3AANd9GcTKhj0B8wieNb0YgzW0DImJgfQaiB4TIMyeauNpnktHNXc4oR0k&usqp=CAU - as ./downloads/emotion/82325ee7de.jpg\n",
      "SUCCESS - saved https://sloanreview.mit.edu/wp-content/uploads/2019/11/FR-Motro-Measuring-Emotion-Facial-Recognition-Employee-Productivity-2400.jpg - as ./downloads/emotion/bab08a0349.jpg\n",
      "SUCCESS - saved https://encrypted-tbn0.gstatic.com/images?q=tbn%3AANd9GcRNpn2BIz0pDg1ymRFo4GF5kYJXs_3XmSi_XaDXaTLBdJA8B9Ex&usqp=CAU - as ./downloads/emotion/ec2be2a080.jpg\n",
      "SUCCESS - saved https://encrypted-tbn0.gstatic.com/images?q=tbn%3AANd9GcSFHkLC7VJh3ffd_dFLgR51RSBMN0M2DANrJ8J4MrTjJ8bd7CYc&usqp=CAU - as ./downloads/emotion/56837ea5e5.jpg\n",
      "SUCCESS - saved https://encrypted-tbn0.gstatic.com/images?q=tbn%3AANd9GcS7D9XsfAOq2fMz7ajj3phY6sMv8n-TDs0GcbGht7OD3_FvcV9Z&usqp=CAU - as ./downloads/emotion/da1839014a.jpg\n",
      "SUCCESS - saved https://encrypted-tbn0.gstatic.com/images?q=tbn%3AANd9GcSZnCbixNUkVS9TUNg1VR4Fft3aKOU8lf1pGjir17gU3yRfBtIF&usqp=CAU - as ./downloads/emotion/db31b16a4d.jpg\n",
      "SUCCESS - saved https://miro.medium.com/max/3276/1*qH9ipOJzQCMReicDpefFUA.png - as ./downloads/emotion/cd8a82a929.jpg\n",
      "SUCCESS - saved https://encrypted-tbn0.gstatic.com/images?q=tbn%3AANd9GcQoTtl3VRJEU-NY49ptBIv4wQc34GmAcOHm9Pycd4zOQSPyfHIT&usqp=CAU - as ./downloads/emotion/75fb89265e.jpg\n",
      "SUCCESS - saved https://encrypted-tbn0.gstatic.com/images?q=tbn%3AANd9GcQ-tSIHUmjGcbehTsVLdZanXmpykEw6788dupEh1RZKi3zLlDR_&usqp=CAU - as ./downloads/emotion/41f07ecc02.jpg\n",
      "SUCCESS - saved https://cdn.psychologytoday.com/sites/default/files/styles/image-article_inline_full/public/field_blog_entry_teaser_image/Christos%20Georghiou_SmileyFace_Shutterstock_0.jpg?itok=DiFyqr3S - as ./downloads/emotion/26100e9750.jpg\n",
      "SUCCESS - saved https://encrypted-tbn0.gstatic.com/images?q=tbn%3AANd9GcS2LsxUkq-4F71qmHNIlJ6L4uUd7fw2UtD8ak72huGaTrjKxzND&usqp=CAU - as ./downloads/emotion/3323f61c97.jpg\n",
      "SUCCESS - saved https://encrypted-tbn0.gstatic.com/images?q=tbn%3AANd9GcRilLEUWdrggNTqKKBh_7G3Ky-FDKEtdBDfnepXXu8Fl51-BIGp&usqp=CAU - as ./downloads/emotion/1f3c2941e8.jpg\n",
      "SUCCESS - saved https://www.wikihow.com/images/thumb/9/96/Read-Emotion-Step-1-Version-2.jpg/aid84139-v4-728px-Read-Emotion-Step-1-Version-2.jpg.webp - as ./downloads/emotion/f04407a571.jpg\n",
      "SUCCESS - saved https://encrypted-tbn0.gstatic.com/images?q=tbn%3AANd9GcQVfzNtlpSkpLHw-JpMMrF-nhxkK99qMzDpDysQMD3voCMJFrto&usqp=CAU - as ./downloads/emotion/88e64a5e2b.jpg\n",
      "SUCCESS - saved https://encrypted-tbn0.gstatic.com/images?q=tbn%3AANd9GcReTNJm5YLDdm6rFqwHlwfia6fCpRn7TVmCfU2AxypK2vJgDZdK&usqp=CAU - as ./downloads/emotion/26eae02c53.jpg\n",
      "SUCCESS - saved https://encrypted-tbn0.gstatic.com/images?q=tbn%3AANd9GcR2Oc_TbLoE3OKFz-_3GvprP9LOsXvvFsFu245DR0NZvfPvfjNs&usqp=CAU - as ./downloads/emotion/adf16e054f.jpg\n",
      "SUCCESS - saved https://encrypted-tbn0.gstatic.com/images?q=tbn%3AANd9GcTa7O3qVEfatMZYr1exY_bZq3nOFWnFy1eoyMqhy7zzKXu7o8xV&usqp=CAU - as ./downloads/emotion/d829249583.jpg\n",
      "SUCCESS - saved https://encrypted-tbn0.gstatic.com/images?q=tbn%3AANd9GcSPWWLc9MBBY8hpKxnhTy-X2Mtq_mrCcCroiR6W-pBGZS5rIm3f&usqp=CAU - as ./downloads/emotion/c6f2212ad5.jpg\n",
      "SUCCESS - saved https://www.impactbnd.com/hubfs/human-emotion-buying-behavior.jpg - as ./downloads/emotion/1051a663d9.jpg\n",
      "SUCCESS - saved https://encrypted-tbn0.gstatic.com/images?q=tbn%3AANd9GcRMXI4cpBAXnIRgGvF0erIa_BzqXbMq3EJ66uyas9eSnj_gmyhR&usqp=CAU - as ./downloads/emotion/a70126d73d.jpg\n",
      "joy\n"
     ]
    },
    {
     "name": "stdout",
     "output_type": "stream",
     "text": [
      "Found: 200 search results. Extracting links from 0:200\n",
      "Found: 101 image links, done!\n",
      "SUCCESS - saved https://encrypted-tbn0.gstatic.com/images?q=tbn%3AANd9GcTz9HsOITRJCm3XnklAhWrymcY0Z8DpY9zUKToWw0ZhwO2K2DVK&usqp=CAU - as ./downloads/joy/2f8c549313.jpg\n",
      "SUCCESS - saved https://thenypost.files.wordpress.com/2020/02/alexa-anya-taylor-joy-9.jpg?quality=80&strip=all&w=978&h=652 - as ./downloads/joy/6d287b69c7.jpg\n",
      "SUCCESS - saved https://encrypted-tbn0.gstatic.com/images?q=tbn%3AANd9GcTV4y6LOimYm4t4PjF--oX9kdI4meX1gBGfAmPGg08fn7YfZx3C&usqp=CAU - as ./downloads/joy/5c7a80b612.jpg\n",
      "SUCCESS - saved https://mitpress.mit.edu/sites/default/files/styles/large_book_cover/http/mitp-content-server.mit.edu%3A18180/books/covers/cover/%3Fcollid%3Dbooks_covers_0%26isbn%3D9780262042871%26type%3D.jpg?itok=r3uyyomS - as ./downloads/joy/e47a8b4a47.jpg\n",
      "SUCCESS - saved https://encrypted-tbn0.gstatic.com/images?q=tbn%3AANd9GcRh13258AkFLpBnK4SSv166ytjfvzEqsWO03155SV61W-h_QNNX&usqp=CAU - as ./downloads/joy/b4560d4166.jpg\n",
      "SUCCESS - saved https://encrypted-tbn0.gstatic.com/images?q=tbn%3AANd9GcSHper1okka00TbXOWKoDr0YqGVLeJCpwsENMqv7QsjIDKyhCa5&usqp=CAU - as ./downloads/joy/4bf1ca5418.jpg\n",
      "SUCCESS - saved https://180recover.com/wp-content/uploads/2018/08/joy.2.jpg - as ./downloads/joy/507e37173d.jpg\n",
      "SUCCESS - saved https://encrypted-tbn0.gstatic.com/images?q=tbn%3AANd9GcQnLysmqJSAeeGBvfpcGYJ-icB4rMybbFJ7qgSZny2TPMe64XKK&usqp=CAU - as ./downloads/joy/2a1d296ff5.jpg\n",
      "SUCCESS - saved https://clalliance.org/wp-content/uploads/2019/12/Joy-of-Search-Blog-Post-1-768x403.png - as ./downloads/joy/8ad432b43b.jpg\n",
      "SUCCESS - saved https://encrypted-tbn0.gstatic.com/images?q=tbn%3AANd9GcRl5kPGbKZ9BGbJIsdq90ZGc-2IjqiWxt2j4EwrveERp3_urMyp&usqp=CAU - as ./downloads/joy/bd59a81235.jpg\n",
      "SUCCESS - saved https://static1.squarespace.com/static/5a8f65b28f513091ab619708/t/5baa921bec212dabb7c3b4ee/1585930411437/?format=1500w - as ./downloads/joy/db27c63189.jpg\n",
      "SUCCESS - saved https://encrypted-tbn0.gstatic.com/images?q=tbn%3AANd9GcSuPunkaHPbJCjoQc68H3smbX45CaVs2ochvwZlYsqYFe5s2GDr&usqp=CAU - as ./downloads/joy/c551607f9f.jpg\n",
      "SUCCESS - saved https://encrypted-tbn0.gstatic.com/images?q=tbn%3AANd9GcQrl5x2Clna7ijdC4e71LCxfbj6kfVUbDX-kUgYUfDl_0AmtgYE&usqp=CAU - as ./downloads/joy/a59d490035.jpg\n",
      "SUCCESS - saved https://encrypted-tbn0.gstatic.com/images?q=tbn%3AANd9GcQREPQ2BD6FzW1Llu3zszt4fzo3c6TtC7Tntm0RX9LlveVchHal&usqp=CAU - as ./downloads/joy/a87051d449.jpg\n",
      "SUCCESS - saved https://assets-gnp-ssl.gonoodle.com/v2/videos/199/tile_images/TAI_Find_Joy_tile.original_1509559808.regular_3x_1559229624.jpg - as ./downloads/joy/3e9a45de4b.jpg\n",
      "SUCCESS - saved https://encrypted-tbn0.gstatic.com/images?q=tbn%3AANd9GcShG9JWoIs7kGHK-oG0E2bPQE1lHWXcFu2wK1x4KKStaXFmpWYa&usqp=CAU - as ./downloads/joy/1cd339974f.jpg\n",
      "SUCCESS - saved https://encrypted-tbn0.gstatic.com/images?q=tbn%3AANd9GcS7mkuKrQscov9xwxaKFH408qeV8gY1f8_YdM85bnSqRW3d5nzg&usqp=CAU - as ./downloads/joy/9244fcbbb5.jpg\n",
      "SUCCESS - saved https://previews.123rf.com/images/kilroy79/kilroy791610/kilroy79161000121/63531394-joy-word-calligraphic-with-scattered-rays-hand-writing-simple-font-style-.jpg - as ./downloads/joy/aa4e46f686.jpg\n",
      "SUCCESS - saved https://vignette.wikia.nocookie.net/pixar/images/7/75/Io_Joy_standard2.jpg/revision/latest?cb=20150425021126 - as ./downloads/joy/6551377597.jpg\n",
      "SUCCESS - saved https://cdn1.vectorstock.com/i/1000x1000/86/25/joy-calligraphy-lettering-t-shirt-vector-12658625.jpg - as ./downloads/joy/a26563a1c3.jpg\n",
      "SUCCESS - saved https://d28hgpri8am2if.cloudfront.net/book_images/onix/cvr9781501169717/joy-of-cooking-9781501169717_hr.jpg - as ./downloads/joy/f9bef1a978.jpg\n",
      "SUCCESS - saved https://encrypted-tbn0.gstatic.com/images?q=tbn%3AANd9GcRJXzgoMoYF0K8kAqdOV7yRrTGQpnO2dy-FRXMzXKUzNaBVhYqw&usqp=CAU - as ./downloads/joy/3806d8c06b.jpg\n",
      "SUCCESS - saved https://encrypted-tbn0.gstatic.com/images?q=tbn%3AANd9GcRynpvAYmN-z_1Nobo33ACjH314zh4EhIzgqa_XEQ7m8fvpKAiI&usqp=CAU - as ./downloads/joy/bd4c1512e0.jpg\n",
      "SUCCESS - saved https://images.ctfassets.net/cnu0m8re1exe/3Ae6DStwVM8wNRxH0qbXzZ/40ae702dc5a11bc5c6784418914b2fcd/SmileJoySpark-1024x698.jpg?w=650&h=433&fit=fill - as ./downloads/joy/3bf2ae1523.jpg\n",
      "SUCCESS - saved https://www1.cbn.com/sites/default/files/styles/image_xl_640x480/public/rain-asian-girl-happy_si.jpg?itok=v-Ihsc1P - as ./downloads/joy/cf3171a3e8.jpg\n",
      "ERROR - Could not save https://www.goalcast.com/wp-content/uploads/2018/02/how-to-let-go-and-find-joy-in-nonattachment.jpg - cannot identify image file <_io.BytesIO object at 0x105334e30>\n",
      "SUCCESS - saved https://cbnasia.org/home/wp-content/uploads/2018/05/Joy-1024x819.jpg - as ./downloads/joy/c6db393483.jpg\n",
      "SUCCESS - saved https://encrypted-tbn0.gstatic.com/images?q=tbn%3AANd9GcT142u04v2zGjSgidUzDTl9_T7rewXeo7NkAddaOKDIihjXYdzv&usqp=CAU - as ./downloads/joy/19d74dddae.jpg\n",
      "SUCCESS - saved https://image.shutterstock.com/image-vector/joy-brush-calligraphy-banner-260nw-1200491059.jpg - as ./downloads/joy/8633cb175e.jpg\n",
      "SUCCESS - saved https://images-na.ssl-images-amazon.com/images/I/71murrnJSHL.jpg - as ./downloads/joy/5ad2456667.jpg\n",
      "SUCCESS - saved https://encrypted-tbn0.gstatic.com/images?q=tbn%3AANd9GcQ_j6qCamdWXdlSkLsso0cQGxU2mQbWjPWF7ysigfwWs3OSmoBz&usqp=CAU - as ./downloads/joy/ae0a8a82c0.jpg\n",
      "SUCCESS - saved https://i.ytimg.com/vi/E-r7ogDaaEQ/maxresdefault.jpg - as ./downloads/joy/5577d2b431.jpg\n",
      "SUCCESS - saved https://res.cloudinary.com/pxty/image/upload/c_scale,f_auto,q_60/v1/joltc2/~/media/growing-families-version1/gf-ph/product/joy-complete-clean-lemon-products-480x480.jpg?la=en-ph&v=1-201802230621 - as ./downloads/joy/d60761a4ed.jpg\n",
      "SUCCESS - saved https://encrypted-tbn0.gstatic.com/images?q=tbn%3AANd9GcTDgTuh57pvlSuilr8hvQO-NyQ0felvlK-klbtcfCtfAoVzL7WY&usqp=CAU - as ./downloads/joy/b6769f2cf1.jpg\n",
      "SUCCESS - saved https://images.pexels.com/photos/1263986/pexels-photo-1263986.jpeg?auto=compress&cs=tinysrgb&dpr=1&w=500 - as ./downloads/joy/d1209428bb.jpg\n",
      "SUCCESS - saved https://images.squarespace-cdn.com/content/v1/5c5a0a8f9b7d1526e92feb59/1552690676343-OTH1D4QJUNQT2FV8O52K/ke17ZwdGBToddI8pDm48kJDE98hzl1zFMtT-mplm_oN7gQa3H78H3Y0txjaiv_0fDoOvxcdMmMKkDsyUqMSsMWxHk725yiiHCCLfrh8O1z5QPOohDIaIeljMHgDF5CVlOqpeNLcJ80NK65_fV7S1UeTjwXCeiEPoEjM2FwYAQoVvMQqRrCBk9rwE3BX7qqXqpC969RuPXvt2ZwyzUXQf7Q/DLP.2019.DLPWebsite_CDF.joy.png?format=2500w - as ./downloads/joy/f15c9fd8aa.jpg\n",
      "SUCCESS - saved https://encrypted-tbn0.gstatic.com/images?q=tbn%3AANd9GcRC2FH13pdDjd0q3VKxzQL6UPlVzrLm9SAxASQoZh8mY5f2RtbK&usqp=CAU - as ./downloads/joy/e0c00919c4.jpg\n",
      "SUCCESS - saved https://encrypted-tbn0.gstatic.com/images?q=tbn%3AANd9GcTKY2SOxxzcnEu_urNEb0NdBfZ0yr5w1IqquzPaJjM6oY6AWCIQ&usqp=CAU - as ./downloads/joy/ba8c7ec8b8.jpg\n",
      "SUCCESS - saved https://www.icreatedaily.com/wp-content/uploads/2018/07/Joy-Quotes-1024x683.jpg - as ./downloads/joy/07279b00bb.jpg\n",
      "SUCCESS - saved https://encrypted-tbn0.gstatic.com/images?q=tbn%3AANd9GcR5IoGXH-WeSpIO-2ecnMBgKHxKd7zoEJ7bKvlhMrKo9lLL0Xsq&usqp=CAU - as ./downloads/joy/1a1574cfd2.jpg\n",
      "ERROR - Could not save https://www.kerryshook.org/wp-content/uploads/2019/11/11-15.jpg - cannot identify image file <_io.BytesIO object at 0x105334ef0>\n",
      "SUCCESS - saved https://thepreachersword.files.wordpress.com/2013/07/joy2.jpg - as ./downloads/joy/e2d47b9fa1.jpg\n",
      "SUCCESS - saved https://encrypted-tbn0.gstatic.com/images?q=tbn%3AANd9GcR2ukbkcu_QhNdRJIecLJhzETx6paz8h9bQcJWI9zJJo634vLW-&usqp=CAU - as ./downloads/joy/39622d2be2.jpg\n",
      "SUCCESS - saved https://cdn.vox-cdn.com/thumbor/nMScR7ZrUUZhDUzPckpCJUA29kk=/0x0:2232x3000/1200x800/filters:focal(497x584:853x940)/cdn.vox-cdn.com/uploads/chorus_image/image/63363222/947366228.jpg.0.jpg - as ./downloads/joy/f87127be45.jpg\n",
      "SUCCESS - saved https://encrypted-tbn0.gstatic.com/images?q=tbn%3AANd9GcTSJMA5WAkMPZHnplqdZHn1fazR8gadlY2w3pV5OZuAqoLNm8fL&usqp=CAU - as ./downloads/joy/6091258cb0.jpg\n",
      "SUCCESS - saved https://upload.wikimedia.org/wikipedia/commons/5/52/20191002_%EC%A1%B0%EC%9D%B4.png - as ./downloads/joy/0c5ca7de9c.jpg\n",
      "SUCCESS - saved https://encrypted-tbn0.gstatic.com/images?q=tbn%3AANd9GcTi6qzsY2hM8o1ORMVJKvTdmcrbzFmgD5iTZvQ1K0Pu5lwqUDE4&usqp=CAU - as ./downloads/joy/01d90d082e.jpg\n",
      "SUCCESS - saved https://encrypted-tbn0.gstatic.com/images?q=tbn%3AANd9GcQ-lXmjzMnKVEof6zz1RoAGzZBW-nsG-ibxwUvYk3cQS4bvbXav&usqp=CAU - as ./downloads/joy/230becab4f.jpg\n"
     ]
    },
    {
     "name": "stdout",
     "output_type": "stream",
     "text": [
      "SUCCESS - saved https://media.swncdn.com/via/6879-istockgetty-images-plusdigitalskillet-1.jpg - as ./downloads/joy/7b3beebd3a.jpg\n",
      "SUCCESS - saved https://pmcvariety.files.wordpress.com/2020/03/joy-behar.jpg?w=681&h=383&crop=1 - as ./downloads/joy/10aba0c59f.jpg\n",
      "ERROR - Could not save https://www.longislandpress.com/wp-content/uploads/2018/05/Joy-Mangano-.jpg - cannot identify image file <_io.BytesIO object at 0x105334d70>\n",
      "SUCCESS - saved https://encrypted-tbn0.gstatic.com/images?q=tbn%3AANd9GcRq-UCAXBB1PMTx36oeR601F_AXvIt_xSyhsX8lRwx4zgMCvSns&usqp=CAU - as ./downloads/joy/bab4c30fc3.jpg\n",
      "SUCCESS - saved https://encrypted-tbn0.gstatic.com/images?q=tbn%3AANd9GcTXoAGqGdjdER5vTMRslxnDWL4BWCwcwW9cGt-ERqd-Dmgr_OOO&usqp=CAU - as ./downloads/joy/4b9120a6d5.jpg\n",
      "SUCCESS - saved https://encrypted-tbn0.gstatic.com/images?q=tbn%3AANd9GcTKW18U3S4u1QyHsxPl1_xDJHImY82h_gemsD91F35zqn64kmDH&usqp=CAU - as ./downloads/joy/2299493d81.jpg\n",
      "SUCCESS - saved https://encrypted-tbn0.gstatic.com/images?q=tbn%3AANd9GcQ1zPXVTqeXMh6nDZ3uVL-wB9Q9KGF1Eh_N4fI_i9atL0oli_WB&usqp=CAU - as ./downloads/joy/8aecbd65b3.jpg\n",
      "SUCCESS - saved https://upload.wikimedia.org/wikipedia/commons/thumb/2/2d/Joy_Park_at_Bulgari_Event_2019.jpg/640px-Joy_Park_at_Bulgari_Event_2019.jpg - as ./downloads/joy/d936ac7fe6.jpg\n",
      "SUCCESS - saved https://encrypted-tbn0.gstatic.com/images?q=tbn%3AANd9GcRPJaxPPbuApQtrrQGZqpdviYV7l8Q2u9HJACTFl7d5uqW0ww2x&usqp=CAU - as ./downloads/joy/4a4b5b819a.jpg\n",
      "SUCCESS - saved https://static01.nyt.com/images/2019/09/29/opinion/sunday/29HolsonStill/29HolsonStill-superJumbo.jpg - as ./downloads/joy/0deea8f410.jpg\n",
      "SUCCESS - saved https://encrypted-tbn0.gstatic.com/images?q=tbn%3AANd9GcS_JTRgKbWI3nMXlmb0nIcD20p_TgMT50NepzULpR2EcGRA_6wa&usqp=CAU - as ./downloads/joy/e8bcbe7b44.jpg\n",
      "SUCCESS - saved https://encrypted-tbn0.gstatic.com/images?q=tbn%3AANd9GcTvb5Yk55NePMPDpVU3FqVC4stRu5mCKLEhsPNwFBxFq08bPSJd&usqp=CAU - as ./downloads/joy/414f62656f.jpg\n",
      "SUCCESS - saved https://encrypted-tbn0.gstatic.com/images?q=tbn%3AANd9GcRE3IRuM4wcaLwl7sNkP4u37N8tyaHVC5addSH0LSyIVzm4BTXg&usqp=CAU - as ./downloads/joy/c9a65f792c.jpg\n",
      "SUCCESS - saved https://encrypted-tbn0.gstatic.com/images?q=tbn%3AANd9GcRvTiDS83Mr5visKhW34aXGTPg8B9L7x7cqZYtvvcDuBAIezjdg&usqp=CAU - as ./downloads/joy/989cb84708.jpg\n",
      "SUCCESS - saved https://encrypted-tbn0.gstatic.com/images?q=tbn%3AANd9GcS402NBSwwNInC5wi1cmrd5F5V3EEga_xa9duN56AJZNsZzRzMX&usqp=CAU - as ./downloads/joy/2ab5a746e0.jpg\n",
      "SUCCESS - saved https://encrypted-tbn0.gstatic.com/images?q=tbn%3AANd9GcTjmL8OjlROQaPtSg5mwt4z9DFmRdCW9LaLN7PRNtZfrby8QvvK&usqp=CAU - as ./downloads/joy/0a51f64597.jpg\n",
      "SUCCESS - saved https://encrypted-tbn0.gstatic.com/images?q=tbn%3AANd9GcTrx9A_7tQq9f0vVBFOE8zDNFbhuzAyX_eOMViI2mGPnVhjltGl&usqp=CAU - as ./downloads/joy/2de9e30e19.jpg\n",
      "SUCCESS - saved https://encrypted-tbn0.gstatic.com/images?q=tbn%3AANd9GcTV9kLpw3guSJnlvChjXn292-sTyHzCkQkvwzHXJ0slWufl5pV6&usqp=CAU - as ./downloads/joy/28a17ec876.jpg\n",
      "SUCCESS - saved https://drmichaelmcgee.com/wp-content/uploads/2018/02/experiencing-joy-12-06.jpg - as ./downloads/joy/c4ba4259f2.jpg\n",
      "SUCCESS - saved https://encrypted-tbn0.gstatic.com/images?q=tbn%3AANd9GcTAznzGQuRz0tg_EVW0GwfaS0uhRvhSGHGAJ9Mp5j2siX6_7MS-&usqp=CAU - as ./downloads/joy/0f96031157.jpg\n",
      "SUCCESS - saved https://i1.wp.com/gcoconline.com/word/wp-content/uploads/2019/10/Joy-Joy-Joy-Joy.jpg?resize=400%2C400&ssl=1 - as ./downloads/joy/480c83f982.jpg\n",
      "SUCCESS - saved https://encrypted-tbn0.gstatic.com/images?q=tbn%3AANd9GcQhVNXH7_8ptoxvEKn9W5dlIW2rgy8CpemSoY7t9b7pwlFYSwJl&usqp=CAU - as ./downloads/joy/fcff1e0fa8.jpg\n",
      "SUCCESS - saved https://encrypted-tbn0.gstatic.com/images?q=tbn%3AANd9GcRVewcFbwVRXRud-Ln0_m05njaN1BlIFIcBRLtSgPubeY5NEiCI&usqp=CAU - as ./downloads/joy/0e8267cc01.jpg\n",
      "SUCCESS - saved https://encrypted-tbn0.gstatic.com/images?q=tbn%3AANd9GcQe6o0uWJZjAk0yXk5Rglt5yJIDNYl_9sk_1srhWZ4gNk04r1cX&usqp=CAU - as ./downloads/joy/addf353d4e.jpg\n",
      "ERROR - Could not save https://konmari.com/wp-content/uploads/2020/02/KonMari_SparkingJoyWithin_SelfLove_KnowYourselfIntimately-new-1200x800.jpg - cannot identify image file <_io.BytesIO object at 0x105334dd0>\n",
      "SUCCESS - saved https://encrypted-tbn0.gstatic.com/images?q=tbn%3AANd9GcRy38ulVOibaQq9iUMVqc-97W4RfFlo3G89jOkX2OKOAFMuWs-Z&usqp=CAU - as ./downloads/joy/88fdc53d6e.jpg\n",
      "SUCCESS - saved https://s3.amazonaws.com/cms.ipressroom.com/285/files/20202/5e6693d52cfac22a8747c70c_DUNKIN_JICF_Logo_RGB/DUNKIN_JICF_Logo_RGB_b40a795a-cf48-4fe5-b5c1-2469e7bd595d-prv.jpg - as ./downloads/joy/3fc97b6795.jpg\n",
      "SUCCESS - saved https://upload.wikimedia.org/wikipedia/en/d/d3/Joyfilmposter.jpg - as ./downloads/joy/fe93a3cc6b.jpg\n",
      "SUCCESS - saved https://encrypted-tbn0.gstatic.com/images?q=tbn%3AANd9GcTDpA0kXSED9PmJJy9jEUw-2fhE26laLxxHLPcwNqXMlcXlcJEa&usqp=CAU - as ./downloads/joy/07ff010672.jpg\n",
      "SUCCESS - saved https://thehill.com/sites/default/files/styles/article_full/public/beharjoy_abc_092818.png?itok=7XezOc6i - as ./downloads/joy/38ffec90c5.jpg\n",
      "SUCCESS - saved https://images-na.ssl-images-amazon.com/images/I/91ZXpH5zYLL.jpg - as ./downloads/joy/fa997dbd45.jpg\n",
      "SUCCESS - saved https://welcomegrace.com/wp-content/uploads/2019/03/The-Joy-Series_-6.jpg - as ./downloads/joy/09a507aea1.jpg\n",
      "SUCCESS - saved https://cdn.shopify.com/s/files/1/2975/7656/products/KonMari_KonMari_Joy_At_Work_3_99906_a1208d6e-c7c8-4c39-b11f-0b737447576d_1200x.jpg?v=1574780529 - as ./downloads/joy/04f083a030.jpg\n",
      "SUCCESS - saved https://encrypted-tbn0.gstatic.com/images?q=tbn%3AANd9GcT1vXqdnEZuDoXZ_baSnP1nANoFoWpP7ATdxIxuEXv9yaU0qHmG&usqp=CAU - as ./downloads/joy/40b0e19648.jpg\n",
      "SUCCESS - saved https://images.squarespace-cdn.com/content/v1/57c5cf3144024318bc90f1a1/1577574445094-PGIRHUMLIOWKZNH16MWI/ke17ZwdGBToddI8pDm48kPJXHKy2-mnvrsdpGQjlhod7gQa3H78H3Y0txjaiv_0fDoOvxcdMmMKkDsyUqMSsMWxHk725yiiHCCLfrh8O1z5QHyNOqBUUEtDDsRWrJLTmrMDYraMJMCQwFxTSOIP7LpSBEQpA-g5k6VTjWbSuadHJq0dp98hg5AZvIaPb3DoM/Joy-Full_Social-Media-Image.png - as ./downloads/joy/8d6ae1f3b7.jpg\n",
      "SUCCESS - saved https://upload.wikimedia.org/wikipedia/commons/c/ce/Joy_at_ICN_Airport_on_January_10%2C_2020.png - as ./downloads/joy/b4d882dedf.jpg\n",
      "SUCCESS - saved https://upload.wikimedia.org/wikipedia/en/f/f2/Bastille_-_Joy.png - as ./downloads/joy/ad98ef769a.jpg\n",
      "SUCCESS - saved https://encrypted-tbn0.gstatic.com/images?q=tbn%3AANd9GcSVEZNOdzBRdt2geygaNGlRtbCeOFjnthitalFoTF6KVy9bF8Y6&usqp=CAU - as ./downloads/joy/a70ab5002e.jpg\n",
      "SUCCESS - saved https://images-na.ssl-images-amazon.com/images/I/41SD0JhlQdL._SX331_BO1,204,203,200_.jpg - as ./downloads/joy/840a62e217.jpg\n",
      "SUCCESS - saved https://encrypted-tbn0.gstatic.com/images?q=tbn%3AANd9GcQB8CYPXr3GyaYuZ8OUz-1mQR9P7MMhqqcLS1aDgXkcQNV957BB&usqp=CAU - as ./downloads/joy/9504e6f36b.jpg\n",
      "SUCCESS - saved https://6.viki.io/image/e8f199c6b1184093a0fca8c3d8052053.jpeg?s=900x600&e=t - as ./downloads/joy/94555bd3b3.jpg\n",
      "SUCCESS - saved https://www.bestchristianpodcast.net/wp-content/uploads/2019/05/joy.jpg - as ./downloads/joy/ee28b814d6.jpg\n",
      "SUCCESS - saved https://images.squarespace-cdn.com/content/v1/5773f447197aea1484dbb280/1538414884138-QXPGWWSMIKPBZRT37MEJ/ke17ZwdGBToddI8pDm48kNiEM88mrzHRsd1mQ3bxVct7gQa3H78H3Y0txjaiv_0fDoOvxcdMmMKkDsyUqMSsMWxHk725yiiHCCLfrh8O1z4YTzHvnKhyp6Da-NYroOW3ZGjoBKy3azqku80C789l0s0XaMNjCqAzRibjnE_wBlkZ2axuMlPfqFLWy-3Tjp4nKScCHg1XF4aLsQJlo6oYbA/joylaroid004color.jpg?format=2500w - as ./downloads/joy/47a2817b28.jpg\n",
      "SUCCESS - saved https://static1.squarespace.com/static/573fd2eff8baf3f38def3a98/t/5b683393575d1f9e8adcf466/1533555624805/relax+judging.JPG?format=1500w - as ./downloads/joy/f20e033309.jpg\n",
      "SUCCESS - saved https://i.ytimg.com/vi/miy6aK6btgU/maxresdefault.jpg - as ./downloads/joy/2e4175fc0b.jpg\n",
      "SUCCESS - saved https://images.squarespace-cdn.com/content/v1/584d6bcce58c627c3bfb511c/1481478219579-XUC9MTJEOMHNV8RLH47U/ke17ZwdGBToddI8pDm48kJ_uMEMeaRqOJyKJV2Heocd7gQa3H78H3Y0txjaiv_0fDoOvxcdMmMKkDsyUqMSsMWxHk725yiiHCCLfrh8O1z4YTzHvnKhyp6Da-NYroOW3ZGjoBKy3azqku80C789l0nhQd1hATG11Bi7VPReL24RGUCy31mX_QLRerHF-XWnqtE1Xf2TCVC-V9Mvkkgg5cg/joy-yellow.png?format=2500w - as ./downloads/joy/27e1fe7633.jpg\n",
      "SUCCESS - saved https://www.goldenglobes.com/sites/default/files/articles/cover_images/anya_taylor-joy20190114.jpg - as ./downloads/joy/de6ebbaf59.jpg\n",
      "SUCCESS - saved https://encrypted-tbn0.gstatic.com/images?q=tbn%3AANd9GcQG2Gt2wx-yMVf65nk6xbJP4yHrZwpc6RBdqcdTDY4pvfAEO8P8&usqp=CAU - as ./downloads/joy/72505ee9f2.jpg\n"
     ]
    },
    {
     "name": "stdout",
     "output_type": "stream",
     "text": [
      "SUCCESS - saved https://upload.wikimedia.org/wikipedia/commons/4/41/Joy.png - as ./downloads/joy/cef009e0f6.jpg\n",
      "SUCCESS - saved https://feedmore.org/wp-content/uploads/FM_Holiday_Instagram-Post.png - as ./downloads/joy/487504bf92.jpg\n",
      "SUCCESS - saved https://withjoy.dexecure.net/assets/img/joy_logo_transparent.png?opt=aggressive - as ./downloads/joy/3d29478219.jpg\n",
      "SUCCESS - saved https://a57.foxnews.com/static.foxnews.com/foxnews.com/content/uploads/2020/03/931/524/Joy-Behar.jpg?ve=1&tl=1 - as ./downloads/joy/9405d1d61e.jpg\n",
      "SUCCESS - saved https://encrypted-tbn0.gstatic.com/images?q=tbn%3AANd9GcQQzEOP3f1Sw7KXs6yx3Qpz7k5E1HbbauOR2zJZ79ojefL0B05c&usqp=CAU - as ./downloads/joy/913cb8a638.jpg\n",
      "hate\n",
      "Found: 200 search results. Extracting links from 0:200\n",
      "Found: 96 image links, looking for more ...\n",
      "emotional state\n",
      "Found: 200 search results. Extracting links from 0:200\n",
      "Found: 91 image links, looking for more ...\n",
      "feeling\n",
      "Found: 100 search results. Extracting links from 0:100\n",
      "Found: 17 image links, looking for more ...\n",
      "anxiety\n",
      "Found: 100 search results. Extracting links from 0:100\n",
      "Found: 17 image links, looking for more ...\n",
      "anger\n",
      "Found: 200 search results. Extracting links from 0:200\n",
      "Found: 100 image links, done!\n",
      "SUCCESS - saved https://content.thriveglobal.com/wp-content/uploads/2018/11/gabriel-matula-300398-unsplash-5.jpg - as ./downloads/anger/5d57418cac.jpg\n",
      "SUCCESS - saved https://i1.wp.com/yolandiehorak.com/wp-content/uploads/2018/05/Anger.png?resize=930%2C620&ssl=1 - as ./downloads/anger/b63ebdf878.jpg\n",
      "SUCCESS - saved https://dz9yg0snnohlc.cloudfront.net/cro-volatile-anger-symptoms-you-shouldnt-ignore-1.jpg - as ./downloads/anger/7c74167fa0.jpg\n",
      "SUCCESS - saved https://www.talkspace.com/blog/wp-content/uploads/2019/01/dealing-with-anger_660W_JW-1.jpg - as ./downloads/anger/23d05c61ee.jpg\n",
      "SUCCESS - saved https://cdn2.vectorstock.com/i/1000x1000/88/41/a-very-angry-man-expressing-his-anger-rage-and-vector-23988841.jpg - as ./downloads/anger/31444b718f.jpg\n",
      "SUCCESS - saved https://encrypted-tbn0.gstatic.com/images?q=tbn%3AANd9GcR8OEUcL7RDE2jM9MZ6jjFMVkJHiyi7-q_kEOmrNvmQ7zArvu96&usqp=CAU - as ./downloads/anger/171a5ae565.jpg\n",
      "SUCCESS - saved https://www.wikihow.com/images/thumb/c/c1/Deal-With-People-Who-Have-Anger-Problems-Step-1-Version-2.jpg/aid2145500-v4-728px-Deal-With-People-Who-Have-Anger-Problems-Step-1-Version-2.jpg.webp - as ./downloads/anger/aa300fd1ea.jpg\n",
      "SUCCESS - saved https://cdn.psychologytoday.com/sites/default/files/styles/amp_metadata_content_image_min_1200px_wide/public/field_blog_entry_teaser_image/anger-794697_960_720_0-144x144-200_0-540_540.jpg?itok=OnUl2g3L - as ./downloads/anger/42ccf0db29.jpg\n",
      "SUCCESS - saved https://whatsyourgrief.com/wp-content/uploads/2014/03/UntitlFB.jpg - as ./downloads/anger/c86dc95d24.jpg\n",
      "SUCCESS - saved https://encrypted-tbn0.gstatic.com/images?q=tbn%3AANd9GcSE41RfxXbzuf0M_pyGgwzeCDDI7NuhMgNh-vNBSyGmyQm4LfNJ&usqp=CAU - as ./downloads/anger/780b0a8383.jpg\n",
      "SUCCESS - saved https://encrypted-tbn0.gstatic.com/images?q=tbn%3AANd9GcTEwHOyoWxwNIU_rgV1xvtnksvVBwG_2GK7CHZHlolta4KgIWGG&usqp=CAU - as ./downloads/anger/4a9b576f87.jpg\n",
      "SUCCESS - saved https://upload.wikimedia.org/wikipedia/en/2/2f/Metallica_-_St._Anger_cover.jpg - as ./downloads/anger/0a10727ee5.jpg\n",
      "SUCCESS - saved https://encrypted-tbn0.gstatic.com/images?q=tbn%3AANd9GcSrgt39eOZ5vP-fexF1qs5vwN2vb8lOl2GOJ4CL16HrAcYaYOOR&usqp=CAU - as ./downloads/anger/5f7232d6c1.jpg\n",
      "ERROR - Could not save https://tricycle.org/wp-content/uploads/2019/08/anger-meditation-2.jpg - cannot identify image file <_io.BytesIO object at 0x105412c50>\n",
      "SUCCESS - saved https://encrypted-tbn0.gstatic.com/images?q=tbn%3AANd9GcTdOrzNzIe34Tq1eYIYRi-wRjlzQT7xdl0sF1fQ3GOcV3TOWVgi&usqp=CAU - as ./downloads/anger/d284ccea9e.jpg\n",
      "SUCCESS - saved https://encrypted-tbn0.gstatic.com/images?q=tbn%3AANd9GcSjvu5RvA046Sy_OceSsNp6MPjqCXwY1Sq8urn8OFKNjwAEh7AP&usqp=CAU - as ./downloads/anger/65e8384f3a.jpg\n",
      "SUCCESS - saved https://lh3.googleusercontent.com/proxy/IOUhQf8JN-C-LxJgKY-WxyXjovhl-9fKQwbFhUhMKIgbKeRGBTh44gQ3zgILSt40hYSVEfw-3fvdVuVP-6rBS5mAednwydmZQ4irtwW81XDT-w - as ./downloads/anger/30a1b6b8a6.jpg\n",
      "SUCCESS - saved https://cdn.powerofpositivity.com/wp-content/uploads/2018/10/3-Major-Causes-Of-Anger-And-How-To-Deal-With-It.jpg - as ./downloads/anger/b2efe7bf7e.jpg\n",
      "SUCCESS - saved https://marketinginsidergroup.com/wp-content/uploads/2019/06/Inside-out-content-marketing-lessons.jpg - as ./downloads/anger/4b403953b2.jpg\n",
      "SUCCESS - saved https://img-a.udemycdn.com/course/750x422/625456_0b23_2.jpg - as ./downloads/anger/9ef28f9a5f.jpg\n",
      "SUCCESS - saved https://encrypted-tbn0.gstatic.com/images?q=tbn%3AANd9GcT_sCJbSRG4251wUvq2YZlM_zrbTVwb2Jc-Jyoe9YNx5jUniBxZ&usqp=CAU - as ./downloads/anger/cc31210319.jpg\n",
      "SUCCESS - saved https://encrypted-tbn0.gstatic.com/images?q=tbn%3AANd9GcSD9aDxypo64HFYwr4JXOw96pnJjDVnh-TC01QoW7Mgcn2yBaiQ&usqp=CAU - as ./downloads/anger/0080142525.jpg\n",
      "SUCCESS - saved https://encrypted-tbn0.gstatic.com/images?q=tbn%3AANd9GcTFsD4C7gD6Xun4aUk0f8TvKHu63j9pkNn4febmmBJ4uhIzT55Y&usqp=CAU - as ./downloads/anger/9270098c32.jpg\n",
      "SUCCESS - saved https://encrypted-tbn0.gstatic.com/images?q=tbn%3AANd9GcS9lv2yoxYes-pJbTFxNoZYLsh464mJIA14n_FExXYBpCuRiZWZ&usqp=CAU - as ./downloads/anger/cb73caa73b.jpg\n",
      "SUCCESS - saved https://dg.imgix.net/how-do-i-let-go-of-anger-over-past-wrongs-wdhkowrb-en/landscape/how-do-i-let-go-of-anger-over-past-wrongs-wdhkowrb-f2efb06b0d98b6de76055009df86109a.jpg?ts=1580143436&ixlib=rails-4.0.0&auto=format%2Ccompress&fit=min&w=800&h=450&dpr=2&ch=Width%2CDPR - as ./downloads/anger/b503e275ad.jpg\n",
      "SUCCESS - saved https://encrypted-tbn0.gstatic.com/images?q=tbn%3AANd9GcSB5wQMcLT8Qb43ZqZGA8NGEFhXtoVRJRXzrtT_O5oJXR7VqChr&usqp=CAU - as ./downloads/anger/fe5d3dada7.jpg\n",
      "SUCCESS - saved https://encrypted-tbn0.gstatic.com/images?q=tbn%3AANd9GcRFDoNxyGz3xicueESjmx69vlnYHtJAYtXJiJEQM37JPtJ0AAl1&usqp=CAU - as ./downloads/anger/b408c6711e.jpg\n",
      "SUCCESS - saved https://cdn.psychologytoday.com/sites/default/files/styles/amp_metadata_content_image_min_1200px_wide/public/field_blog_entry_images/2018-12/anger-477044_640.png?itok=VViB1n5Q - as ./downloads/anger/97ef36acbd.jpg\n",
      "SUCCESS - saved https://encrypted-tbn0.gstatic.com/images?q=tbn%3AANd9GcSiIQXps_Buy8VeWdM-BIqEMmSgj0tbwgS1jg7fH8lwA9tHvB-x&usqp=CAU - as ./downloads/anger/72d7b7cc29.jpg\n",
      "SUCCESS - saved https://encrypted-tbn0.gstatic.com/images?q=tbn%3AANd9GcSw4XYw7FRCMVlDW_iVNiloeWaHa5QmMfDYHJcCmpLRAz8OBd6_&usqp=CAU - as ./downloads/anger/052c5092a1.jpg\n",
      "SUCCESS - saved https://spiritualityhealth.com/assets/images/Blogs/_articleSummaryImage/anger.jpg - as ./downloads/anger/9e9baa8201.jpg\n",
      "ERROR - Could not save https://spectator.us/wp-content/uploads/2019/10/Angerpic.jpeg - cannot identify image file <_io.BytesIO object at 0x105334e30>\n",
      "SUCCESS - saved https://vignette.wikia.nocookie.net/pixar/images/7/7a/Io_Anger_standard2.jpg/revision/latest?cb=20150425021210 - as ./downloads/anger/ca230c4ae0.jpg\n",
      "SUCCESS - saved https://encrypted-tbn0.gstatic.com/images?q=tbn%3AANd9GcTGG8AfivN2BUFfqsz-w1UIk7kTuhLR5BLn-Ya65wfOa_MboDEp&usqp=CAU - as ./downloads/anger/5cc81beee2.jpg\n",
      "SUCCESS - saved https://i0.wp.com/publicseminar.org/wp-content/uploads/2017/07/9780226119984-e1501080438842.jpg?fit=1024%2C575&ssl=1 - as ./downloads/anger/ea06e5cf72.jpg\n",
      "SUCCESS - saved https://encrypted-tbn0.gstatic.com/images?q=tbn%3AANd9GcQuURb30L1rRsmUk64bj5dBDg_LfKkxDRQm6DrtZNCFv-sDLVnR&usqp=CAU - as ./downloads/anger/fdffc73bcc.jpg\n",
      "SUCCESS - saved https://nickwignall.com/wp-content/uploads/2019/12/Anger-Nick-Wignall-2.jpg - as ./downloads/anger/6dac0856b3.jpg\n",
      "SUCCESS - saved https://encrypted-tbn0.gstatic.com/images?q=tbn%3AANd9GcTZN4IPfbx_kqXvN_XzLHMWYItCxnYkXMthPH5w9Myeg9PAsibP&usqp=CAU - as ./downloads/anger/ed0500f460.jpg\n",
      "SUCCESS - saved https://lh3.googleusercontent.com/proxy/BLk4TMjNJw6bOENWpnMFP23pva8s035gfxN1xYe3SsN3wjfNG59eY-MiXoIAbxlEK4fCogG2aqQ-yky1VU7cgBypyJgyXRpqObhp6Zvm7Alv_a8GUJ3w - as ./downloads/anger/be7ed6a5ae.jpg\n",
      "SUCCESS - saved https://encrypted-tbn0.gstatic.com/images?q=tbn%3AANd9GcQL2tXb_fEHuDMXs7TlkxdDiATJ7s-YNP2IYWyQ8qravrPfMsJi&usqp=CAU - as ./downloads/anger/b7f181f38c.jpg\n",
      "SUCCESS - saved https://static.toiimg.com/photo/72457399.cms - as ./downloads/anger/f2738a413e.jpg\n"
     ]
    },
    {
     "name": "stdout",
     "output_type": "stream",
     "text": [
      "SUCCESS - saved https://miro.medium.com/max/4800/1*7iSxaz9_H9bQvN_uhcLRAQ.jpeg - as ./downloads/anger/565a00b8ef.jpg\n",
      "SUCCESS - saved https://www.bphope.com/wp-content/uploads/2019/12/bipolar-anger-management-strategies-840061704.gif - as ./downloads/anger/0edca16e44.jpg\n",
      "SUCCESS - saved https://encrypted-tbn0.gstatic.com/images?q=tbn%3AANd9GcR6L0yNXCGbAmf9W26pNIZKo5ZV-HIbRkMvtXkqtTRG4sZz4K75&usqp=CAU - as ./downloads/anger/9c4c4d91bf.jpg\n",
      "SUCCESS - saved https://encrypted-tbn0.gstatic.com/images?q=tbn%3AANd9GcQ4XM47Hp7u82J5qCKPGfDvbNUmzRhIhWTsqxcmXwC89mokkXqs&usqp=CAU - as ./downloads/anger/29459d7e35.jpg\n",
      "SUCCESS - saved https://encrypted-tbn0.gstatic.com/images?q=tbn%3AANd9GcQLWEVwh4P4lk-EiOVXkR65yWOTRRXYrMu_7zrSMOhZFiZKjog-&usqp=CAU - as ./downloads/anger/8422c37173.jpg\n",
      "SUCCESS - saved https://i.ytimg.com/vi/BsVq5R_F6RA/maxresdefault.jpg - as ./downloads/anger/fcce5de60e.jpg\n",
      "SUCCESS - saved https://encrypted-tbn0.gstatic.com/images?q=tbn%3AANd9GcSwNJaAzABtxYoM0AK6BXiimryyuGY4G-RM7zLh2rca8RtR_M1I&usqp=CAU - as ./downloads/anger/64bdf8c2d8.jpg\n",
      "SUCCESS - saved https://static.tvtropes.org/pmwiki/pub/images/inside_out_anger_fullbody.png - as ./downloads/anger/47bf704b55.jpg\n",
      "SUCCESS - saved https://encrypted-tbn0.gstatic.com/images?q=tbn%3AANd9GcQSoWLLP7lIyJwdPaR1oFRVw13ttU171EscWQ7YCq0uA_ty7DYk&usqp=CAU - as ./downloads/anger/3bf1254f86.jpg\n",
      "SUCCESS - saved https://encrypted-tbn0.gstatic.com/images?q=tbn%3AANd9GcRg3MmPRZEyw9zOOsroRkzqN_nbrHBINyAJAl_nLswQIZtBIT-T&usqp=CAU - as ./downloads/anger/4c07d7ec73.jpg\n",
      "SUCCESS - saved https://psmag.com/.image/t_share/MTI3NTgxNjY1Mjk5MTEwMzY2/anger-illo.jpg - as ./downloads/anger/f8264be025.jpg\n",
      "SUCCESS - saved https://encrypted-tbn0.gstatic.com/images?q=tbn%3AANd9GcTvtCI-O1SedRg4DxGnmJbFPRv_qPn7EfKG9ZataICq2-67toAo&usqp=CAU - as ./downloads/anger/a6f845fab0.jpg\n",
      "SUCCESS - saved https://www.apa.org/images/anger-title-image_tcm7-187841.jpg - as ./downloads/anger/279ef65e34.jpg\n",
      "SUCCESS - saved https://www.incimages.com/uploaded_files/image/970x450/getty_539884497_2000133320009280153_404822.jpg - as ./downloads/anger/1f7033f849.jpg\n",
      "SUCCESS - saved https://media1.s-nbcnews.com/i/newscms/2019_08/2763076/190223-anger-al-1310_e25372e6667413e25ce0911213e2e1ac.jpg - as ./downloads/anger/1e1ee69776.jpg\n",
      "SUCCESS - saved https://encrypted-tbn0.gstatic.com/images?q=tbn%3AANd9GcRKwtqgSw6MTSuT--pTeAESZ_4l5ynxW94lmkABTirdX_ajxWBf&usqp=CAU - as ./downloads/anger/d34923ba1c.jpg\n",
      "SUCCESS - saved https://miro.medium.com/max/3840/1*cD8nIooIkIrLoHKBOGnj9A.jpeg - as ./downloads/anger/8894bd1288.jpg\n",
      "SUCCESS - saved https://encrypted-tbn0.gstatic.com/images?q=tbn%3AANd9GcRVaPqpi5oMgSerRm5aWfgRqx1ez7LcVqUueF9CBOMfPIMD0t3_&usqp=CAU - as ./downloads/anger/7182ec95b1.jpg\n",
      "SUCCESS - saved https://encrypted-tbn0.gstatic.com/images?q=tbn%3AANd9GcTLTxs8-jNonmMEoDw5DTAr9i45g9pIPEdSKc6eMuP90vw-0hbT&usqp=CAU - as ./downloads/anger/884563f897.jpg\n",
      "SUCCESS - saved https://www.talkspace.com/blog/wp-content/uploads/2017/06/anger-woman-feature_1320W_JR-1.png - as ./downloads/anger/2c25557a4f.jpg\n",
      "ERROR - Could not save https://experiencelife.com/wp-content/uploads/2014/02/Seeing-Red-Anger-1280x720.jpg - cannot identify image file <_io.BytesIO object at 0x105343b30>\n",
      "ERROR - Could not save https://counselingwellnesspgh.com/wp-content/uploads/2018/02/anger-management-408745120-1170x780.png - cannot identify image file <_io.BytesIO object at 0x105343650>\n",
      "SUCCESS - saved https://www.psychotherapy.net/data/uploads/50f091f17f047.jpg - as ./downloads/anger/ff1434d1e0.jpg\n",
      "SUCCESS - saved https://encrypted-tbn0.gstatic.com/images?q=tbn%3AANd9GcQdZ80CzA-0bLKLEZHWUeZieBePPg_C4YmPT53ju3igcJJi7bxC&usqp=CAU - as ./downloads/anger/012b97c2d9.jpg\n",
      "SUCCESS - saved https://encrypted-tbn0.gstatic.com/images?q=tbn%3AANd9GcQSfwCbGDAAnOgOEkpe3sRhqVE3vQ0ELhZgur3vlbF-SRJpg_4Z&usqp=CAU - as ./downloads/anger/f5085e2cd2.jpg\n",
      "SUCCESS - saved https://aleteiaen.files.wordpress.com/2018/10/web3-fists-hands-anger-angry-upset-shutterstock_758985370.jpg?quality=100&strip=all - as ./downloads/anger/c65d1ad10a.jpg\n",
      "SUCCESS - saved https://www.gracepointwellness.org/images/root/anger_stockxpertcom_id917161_size01.JPG - as ./downloads/anger/c6a8eca3c9.jpg\n",
      "SUCCESS - saved https://encrypted-tbn0.gstatic.com/images?q=tbn%3AANd9GcSAyPhWLhfXsJeKXlXYil-W8He4bLi39pnFSes9usoIh28a-NoY&usqp=CAU - as ./downloads/anger/1ef71bb798.jpg\n",
      "SUCCESS - saved https://encrypted-tbn0.gstatic.com/images?q=tbn%3AANd9GcQpeZxe6DZQGWyf2z1XuoOw7ahfiL4uJ9VtgaIakTzwocMVnOaB&usqp=CAU - as ./downloads/anger/bc14de54c5.jpg\n",
      "SUCCESS - saved https://images.squarespace-cdn.com/content/v1/589b12468419c22a6dc74e65/1558341618782-7FJAPQ2YR2NRC5U2VP9J/ke17ZwdGBToddI8pDm48kCiX9Vj2AH6Z33FSYy5Fyqd7gQa3H78H3Y0txjaiv_0fDoOvxcdMmMKkDsyUqMSsMWxHk725yiiHCCLfrh8O1z4YTzHvnKhyp6Da-NYroOW3ZGjoBKy3azqku80C789l0lCvyAd1-5UQFnp8aARaJsW5Zi8vJ2q9TDRBAKy8t4lL0MsQ67px5zuB_ObYJDVCyA/image-asset.jpeg - as ./downloads/anger/72fc635a03.jpg\n",
      "SUCCESS - saved https://secureservercdn.net/198.71.233.227/33d.aff.myftpupload.com/wp-content/uploads/2019/05/where-there-is-anger-800x675.png - as ./downloads/anger/e3e6ec7028.jpg\n",
      "SUCCESS - saved https://cdn-prod.medicalnewstoday.com/content/images/hero/327/327408/327408_1100.jpg - as ./downloads/anger/51bb54d113.jpg\n",
      "SUCCESS - saved https://tedideas.files.wordpress.com/2018/09/featured_art_istock1.jpg - as ./downloads/anger/cf0a1422ec.jpg\n",
      "SUCCESS - saved https://encrypted-tbn0.gstatic.com/images?q=tbn%3AANd9GcQjX9pwUKTgzWHQXrllKwqCeiFBQty6fNRqXprXuc0K8lCx_tdI&usqp=CAU - as ./downloads/anger/909a7316c7.jpg\n",
      "SUCCESS - saved https://encrypted-tbn0.gstatic.com/images?q=tbn%3AANd9GcTaPG99xY9IhuGenTDpUeUAKgQqnvdPYFyRBvzorGI7Wq8bmQhq&usqp=CAU - as ./downloads/anger/fdd3200364.jpg\n",
      "SUCCESS - saved https://encrypted-tbn0.gstatic.com/images?q=tbn%3AANd9GcTXla899r6bUKWQqnSngxTbuFgh_2TFXHeSO-54Z6QB1nXPdWMy&usqp=CAU - as ./downloads/anger/9a3033b6fb.jpg\n",
      "SUCCESS - saved https://images.genius.com/0b0922c14d55f3942f6078d22d8db80a.1000x1000x1.jpg - as ./downloads/anger/30d74ef8b1.jpg\n",
      "SUCCESS - saved https://images.sadhguru.org/sites/default/files/media_files/iso/en/54181-how-can-we-control-anger.jpg - as ./downloads/anger/bc2b631168.jpg\n",
      "SUCCESS - saved https://encrypted-tbn0.gstatic.com/images?q=tbn%3AANd9GcRI6P5ItWYHw9xQYEFeahtdpsVo0gJIUJvFRAkP7jtzljaVS2Wc&usqp=CAU - as ./downloads/anger/1bfc974cda.jpg\n",
      "SUCCESS - saved https://m.media-amazon.com/images/I/51s4gsuehBL.jpg - as ./downloads/anger/232a0602fb.jpg\n",
      "SUCCESS - saved https://www.verywellmind.com/thmb/X5nn__vUZfc4rw6D2JA477tT7sM=/1500x1000/filters:no_upscale():max_bytes(150000):strip_icc()/anger-management-strategies-4178870-478b9bc1a2b648a7b4bcbe7934591cf5.png - as ./downloads/anger/829ac83f77.jpg\n",
      "SUCCESS - saved https://encrypted-tbn0.gstatic.com/images?q=tbn%3AANd9GcSs5JYw99kLRotYcd_FZSlHwe-XEDYticNoVU7ffHkmiWGp5ASq&usqp=CAU - as ./downloads/anger/262bd3ee54.jpg\n",
      "SUCCESS - saved https://encrypted-tbn0.gstatic.com/images?q=tbn%3AANd9GcRXdX1s-lId8fheBo1MuJqb4vuKiAJiFMhdqhqxh56ShDm7fBsp&usqp=CAU - as ./downloads/anger/e466238897.jpg\n",
      "SUCCESS - saved https://encrypted-tbn0.gstatic.com/images?q=tbn%3AANd9GcR5uLt-I5qH-9l8-ZqDllyrvR329PrOQd540pXPp5lt8KEnCSIm&usqp=CAU - as ./downloads/anger/d248e0b26b.jpg\n",
      "SUCCESS - saved https://cdn.mindful.org/anger-1.png?q=80&fm=jpg&fit=crop&w=1400&h=875 - as ./downloads/anger/77ca2565c1.jpg\n",
      "SUCCESS - saved https://encrypted-tbn0.gstatic.com/images?q=tbn%3AANd9GcRI2rEsQdiLQLO8NZSQIZXFaBReOTA8HzOKlLgEuVCrnbKSy3in&usqp=CAU - as ./downloads/anger/04138e0481.jpg\n",
      "SUCCESS - saved https://encrypted-tbn0.gstatic.com/images?q=tbn%3AANd9GcRhG5jVB5sCgXsNDRc7GQLSGIAagGUCtgna2CnUvsDT5sHCOcji&usqp=CAU - as ./downloads/anger/55c87c6aab.jpg\n",
      "SUCCESS - saved https://cdn.mindful.org/anger.png?q=80&fm=jpg&fit=crop&w=1400&h=875 - as ./downloads/anger/c5fda2a8f6.jpg\n",
      "SUCCESS - saved https://encrypted-tbn0.gstatic.com/images?q=tbn%3AANd9GcRVU1paxaA1wSrm6yp0Nc68vu12QEUWDHDTHHOMgDHBAhXZGpau&usqp=CAU - as ./downloads/anger/692c826eae.jpg\n",
      "SUCCESS - saved https://images-na.ssl-images-amazon.com/images/I/81-xAaqioEL.jpg - as ./downloads/anger/4df4f35a74.jpg\n",
      "SUCCESS - saved https://encrypted-tbn0.gstatic.com/images?q=tbn%3AANd9GcTCzccOmxw02hV9SpjnnhGp4tNhTzFJUIJ650JMoztwb6-l0Ie8&usqp=CAU - as ./downloads/anger/5583af6df1.jpg\n",
      "SUCCESS - saved https://encrypted-tbn0.gstatic.com/images?q=tbn%3AANd9GcTuyEJ9BO8VUPky17LUEWmVU58mMN2m2-GP0nN9jf6braDaE_vC&usqp=CAU - as ./downloads/anger/5e5f718002.jpg\n"
     ]
    },
    {
     "name": "stdout",
     "output_type": "stream",
     "text": [
      "SUCCESS - saved https://media4.s-nbcnews.com/i/newscms/2017_37/2156151/170915-anger-screaming-stock-njs-12p_b54ffc85cdc4c9170a757211f51069f2.jpg - as ./downloads/anger/eae4841726.jpg\n",
      "SUCCESS - saved https://encrypted-tbn0.gstatic.com/images?q=tbn%3AANd9GcRljHKt3DVo-H-ANDfeg8NarsISbbBnCS8HWJS30FAtxk2eK9Y5&usqp=CAU - as ./downloads/anger/5449fccd1e.jpg\n",
      "SUCCESS - saved https://www.healthyplace.com/sites/default/files/uploads/2016/11/anger-depression-symptom.jpg - as ./downloads/anger/2e59b6a162.jpg\n",
      "SUCCESS - saved https://www.hsdinstitute.org/assets/images/face-anger-with-focus.2.png - as ./downloads/anger/af8d9399c4.jpg\n",
      "SUCCESS - saved https://cdn10.bigcommerce.com/s-hi7gs6/product_images/uploaded_images/release-anger-spells-rituals.jpg?t=1575401498 - as ./downloads/anger/c936baf28a.jpg\n",
      "SUCCESS - saved https://miro.medium.com/max/960/1*YZIKJ_a_eAGurNOa2PyFVw.jpeg - as ./downloads/anger/588da7351e.jpg\n",
      "SUCCESS - saved https://www.apa.org/images/anger-title-image_tcm7-230128.jpg - as ./downloads/anger/234c23bd4c.jpg\n",
      "fear\n",
      "Found: 200 search results. Extracting links from 0:200\n",
      "Found: 99 image links, looking for more ...\n"
     ]
    }
   ],
   "source": [
    "img_urls_dict = {}\n",
    "for search_term in search_terms:\n",
    "    print(search_term)\n",
    "    urls = search_and_download(search_term = search_term, driver_path = DRIVER_PATH, home = home, number_images = number_images)\n",
    "    img_urls_dict[search_term] = urls"
   ]
  },
  {
   "cell_type": "markdown",
   "metadata": {},
   "source": [
    "### Run Google Vision Filter "
   ]
  },
  {
   "cell_type": "code",
   "execution_count": null,
   "metadata": {},
   "outputs": [],
   "source": [
    "if filter_data: \n",
    "    img_classified_dict = run_google_vision(img_urls_dict)\n",
    "    write_img_classifications_to_file(home, search_terms, img_classified_dict)"
   ]
  },
  {
   "cell_type": "markdown",
   "metadata": {},
   "source": [
    "You should now have the top 100 images of each of the elements of 'search_term' saved on your machine: you can now run the analysis presented in the ```compsyn_package_pipeline```. Note that "
   ]
  }
 ],
 "metadata": {
  "kernelspec": {
   "display_name": "Python 3",
   "language": "python",
   "name": "python3"
  },
  "language_info": {
   "codemirror_mode": {
    "name": "ipython",
    "version": 3
   },
   "file_extension": ".py",
   "mimetype": "text/x-python",
   "name": "python",
   "nbconvert_exporter": "python",
   "pygments_lexer": "ipython3",
   "version": "3.7.6"
  }
 },
 "nbformat": 4,
 "nbformat_minor": 4
}
